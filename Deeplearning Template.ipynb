{
 "cells": [
  {
   "cell_type": "code",
   "execution_count": 9,
   "metadata": {},
   "outputs": [],
   "source": [
    "import mysql.connector # pip install mysql-connector-python-rf\n",
    "import git # pip install GitPython\n",
    "import os"
   ]
  },
  {
   "cell_type": "markdown",
   "metadata": {},
   "source": [
    "## Config"
   ]
  },
  {
   "cell_type": "code",
   "execution_count": 10,
   "metadata": {
    "scrolled": true
   },
   "outputs": [
    {
     "name": "stdout",
     "output_type": "stream",
     "text": [
      "Modification:\n",
      "Test\n",
      "User:\n",
      "Oli\n"
     ]
    }
   ],
   "source": [
    "#Log Data\n",
    "print('Modification:')\n",
    "modification = input() # Was wurde verändert\n",
    "print('User:')\n",
    "user = input()#git.util.get_user_id() # Bearbeiter, Sollte automatisch gelesen werden \n",
    "try:\n",
    "    repo = git.Repo()\n",
    "    branch = repo.active_branch # Projekt, Sollte automatisch gelesen werden\n",
    "    lastCommit = repo.head.commit.hexsha #\"ca324dadsa\" # Stand, Sollte automatisch gelesen werden\n",
    "except:\n",
    "    print('Branch:')\n",
    "    branch = input()\n",
    "    lastCommit = ''\n",
    "env = \"local\" # Test umgebung"
   ]
  },
  {
   "cell_type": "code",
   "execution_count": 3,
   "metadata": {},
   "outputs": [],
   "source": [
    "# Model Config\n",
    "samplesize = 1000 # Datensatz\n",
    "split = 0.8  # Testdatensatz in % => 0.8 = 80% testdata"
   ]
  },
  {
   "cell_type": "markdown",
   "metadata": {},
   "source": [
    "## TF Code"
   ]
  },
  {
   "cell_type": "code",
   "execution_count": 4,
   "metadata": {},
   "outputs": [],
   "source": [
    "### Your Code"
   ]
  },
  {
   "cell_type": "code",
   "execution_count": 5,
   "metadata": {},
   "outputs": [],
   "source": [
    "runtime = 10002 # Laufzeit aus tf\n",
    "maxAcc = 0.85 # Acc. aus tf\n",
    "maxLoss = 0.2 # Loss aus tf"
   ]
  },
  {
   "cell_type": "markdown",
   "metadata": {},
   "source": [
    "## Log"
   ]
  },
  {
   "cell_type": "code",
   "execution_count": 8,
   "metadata": {},
   "outputs": [
    {
     "name": "stdout",
     "output_type": "stream",
     "text": [
      "Test logger master 3f02a858bddcd78ee06c594c0d51a5a40c57b185 1000 0.8 local 10002 0.85 0.2\n"
     ]
    }
   ],
   "source": [
    "# Loggs data in database\n",
    "# https://docs.google.com/spreadsheets/d/1O7sZD6qQI0XN79c3W-E2rr2gBILVAa0dVPoUL7pB4HM/edit#gid=25233742\n",
    "mydb = mysql.connector.connect(\n",
    "    host=\"vweb12.nitrado.net\",\n",
    "    user=\"ni249339_1sql10\",\n",
    "    passwd=\"Deeplearning2019\",\n",
    "    db=\"ni249339_1sql10\"\n",
    ")\n",
    "\n",
    "mycursor = mydb.cursor()\n",
    "print (modification, branch, lastCommit, samplesize, split, env, runtime, maxAcc, maxLoss)\n",
    "sql = \"INSERT INTO Log (Modification, Branch, User, LastCommit, Samplesize, Split, Env, Runtime, MaxAcc, MaxLoss) VALUES (%s, %s, %s, %s, %s, %s, %s, %s, %s, %s)\"\n",
    "val = (modification, str(branch),str(user), str(lastCommit), samplesize, split, env, runtime, maxAcc, maxLoss)\n",
    "mycursor.execute(sql, val)\n",
    "\n",
    "mydb.commit()"
   ]
  }
 ],
 "metadata": {
  "kernelspec": {
   "display_name": "Python 3",
   "language": "python",
   "name": "python3"
  },
  "language_info": {
   "codemirror_mode": {
    "name": "ipython",
    "version": 3
   },
   "file_extension": ".py",
   "mimetype": "text/x-python",
   "name": "python",
   "nbconvert_exporter": "python",
   "pygments_lexer": "ipython3",
   "version": "3.7.3"
  }
 },
 "nbformat": 4,
 "nbformat_minor": 2
}
